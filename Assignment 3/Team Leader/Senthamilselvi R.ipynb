{
  "nbformat": 4,
  "nbformat_minor": 0,
  "metadata": {
    "colab": {
      "provenance": []
    },
    "kernelspec": {
      "name": "python3",
      "display_name": "Python 3"
    },
    "language_info": {
      "name": "python"
    }
  },
  "cells": [
    {
      "cell_type": "code",
      "execution_count": null,
      "metadata": {
        "id": "q-xnaQn0XfVf"
      },
      "outputs": [],
      "source": [
        "PROGRAM FOR BLINK LED LIGHT:-\n",
        "import RPi.GPIO as GPIO\n",
        "import time\n",
        "ledpin=4\n",
        "GPIO.setmode(GPIO.BCM)\n",
        "GPIO.setup(ledpin, GPIO.OUT)\n",
        "while 1:\n",
        "    GPIO.output(ledpin,True)\n",
        "    time.sleep(1)\n",
        "    GPIO.output(ledpin,False)\n",
        "    time.sleep(1)\n",
        "\n",
        "PROGRAM FOR TRAFFIC SIGNAL LIGHT:-\n",
        "import RPi.GPIO as GPIO\n",
        "import time\n",
        "import signal\n",
        "import sys\n",
        "# Setup\n",
        "GPIO.setmode(GPIO.BCM)\n",
        "GPIO.setup(9, GPIO.OUT)\n",
        "GPIO.setup(10, GPIO.OUT)\n",
        "GPIO.setup(11, GPIO.OUT)\n",
        "# Turn off all lights when user ends demo\n",
        "def allLightsOff(signal, frame):\n",
        "    GPIO.output(9, False)\n",
        "    GPIO.output(10, False)\n",
        "    GPIO.output(11, False)\n",
        "    GPIO.cleanup()\n",
        "    sys.exit(0)\n",
        "signal.signal(signal.SIGINT, allLightsOff)\n",
        "# Loop forever\n",
        "while True: \n",
        "    # Red \n",
        "    GPIO.output(9, True) \n",
        "    time.sleep(3)  \n",
        "    # Red and amber \n",
        "    GPIO.output(10, True) \n",
        "    time.sleep(1)  \n",
        "    # Green \n",
        "    GPIO.output(9, False) \n",
        "    GPIO.output(10, False) \n",
        "    GPIO.output(11, True) \n",
        "    time.sleep(5)  \n",
        "    # Amber \n",
        "    GPIO.output(11, False) \n",
        "    GPIO.output(10, True) \n",
        "    time.sleep(2)  \n",
        "    # Amber off (red comes on at top of loop) \n",
        "    GPIO.output(10, False)"
      ]
    }
  ]
}
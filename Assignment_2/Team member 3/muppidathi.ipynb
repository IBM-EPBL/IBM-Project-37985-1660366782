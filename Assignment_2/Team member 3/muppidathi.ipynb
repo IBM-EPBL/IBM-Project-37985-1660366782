{
  "nbformat": 4,
  "nbformat_minor": 0,
  "metadata": {
    "colab": {
      "provenance": []
    },
    "kernelspec": {
      "name": "python3",
      "display_name": "Python 3"
    },
    "language_info": {
      "name": "python"
    }
  },
  "cells": [
    {
      "cell_type": "markdown",
      "source": [
        "BUILD A PYTHON CODE, ASSUME YOU GET TEMPERATURE AND HUMIDITY VALUES(generated with random function to a variable) AND WRITE A CONDITION TO CONTINUOSLY DETECT A ALARM INCASE OF HIGH TEMPERATURE"
      ],
      "metadata": {
        "id": "0CjZ3HyeD7CK"
      }
    },
    {
      "cell_type": "code",
      "source": [
        "print(\"TEMPERATURE & HUMIDITY VALUES\")\n",
        "temp=int(input(\"Enter the Temperature:\"))\n",
        "dew=int(input(\"Enter the Dewpoint:\"))\n",
        "hum=(temp/dew)*100\n",
        "print(\"THE TEMPERATURE IS:\",temp,\"degree C\")\n",
        "print(\"THE HUMIDITY IS   :\",hum,\"%\")\n",
        "if(temp>40):\n",
        "    print(\"THE TEMPERATURE IS HIGH\")\n",
        "elif(temp<25):\n",
        "    print(\"THE TEMPERATURE IS LOW\")\n",
        "else:\n",
        "    print(\"THE TEMPERATURE IS NORMAL\")\n",
        "\n",
        "\n"
      ],
      "metadata": {
        "colab": {
          "base_uri": "https://localhost:8080/"
        },
        "id": "zz4nXDz0D9l1",
        "outputId": "a3cb28a6-0333-4f28-aa4e-26fef06eaea2"
      },
      "execution_count": 4,
      "outputs": [
        {
          "output_type": "stream",
          "name": "stdout",
          "text": [
            "TEMPERATURE & HUMIDITY VALUES\n",
            "Enter the Temperature:45\n",
            "Enter the Dewpoint:70\n",
            "THE TEMPERATURE IS: 45 degree C\n",
            "THE HUMIDITY IS   : 64.28571428571429 %\n",
            "THE TEMPERATURE IS HIGH\n"
          ]
        }
      ]
    }
  ]
}
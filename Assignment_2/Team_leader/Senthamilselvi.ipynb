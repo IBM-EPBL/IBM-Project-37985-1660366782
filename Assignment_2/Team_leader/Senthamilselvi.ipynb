{
  "nbformat": 4,
  "nbformat_minor": 0,
  "metadata": {
    "colab": {
      "provenance": []
    },
    "kernelspec": {
      "name": "python3",
      "display_name": "Python 3"
    },
    "language_info": {
      "name": "python"
    }
  },
  "cells": [
    {
      "cell_type": "markdown",
      "source": [
        "BUILD A PYTHON CODE, ASSUME YOU GET TEMPERATURE AND HUMIDITY VALUES(generated with random function to a variable) AND WRITE A CONDITION TO CONTINUOSLY DETECT A ALARM INCASE OF HIGH TEMPERATURE"
      ],
      "metadata": {
        "id": "0CjZ3HyeD7CK"
      }
    },
    {
      "cell_type": "code",
      "source": [
        "import random\n",
        "print(\"TEMPERATURE & HUMIDITY VALUES\")\n",
        "temp=random.randint(5,50)\n",
        "dew=random.randint(10,50)\n",
        "hum=(temp/dew)*100\n",
        "print(\"THE TEMPERATURE IS:\",temp,\"degree C\")\n",
        "print(\"THE HUMIDITY IS   :\",hum,\"%\")\n",
        "if(temp>40):\n",
        "    print(\"THE TEMPERATURE IS HIGH\")\n",
        "    print(\"TEMPERATURE ALERT!!!\")\n",
        "elif(temp<25):\n",
        "    print(\"THE TEMPERATURE IS LOW\")\n",
        "else:\n",
        "    print(\"THE TEMPERATURE IS NORMAL\")\n",
        "\n",
        "\n"
      ],
      "metadata": {
        "colab": {
          "base_uri": "https://localhost:8080/"
        },
        "id": "zz4nXDz0D9l1",
        "outputId": "1b41cb05-7c9a-4f6f-d2c9-5ab5951cb1a1"
      },
      "execution_count": 6,
      "outputs": [
        {
          "output_type": "stream",
          "name": "stdout",
          "text": [
            "TEMPERATURE & HUMIDITY VALUES\n",
            "THE TEMPERATURE IS: 25 degree C\n",
            "THE HUMIDITY IS   : 78.125 %\n",
            "THE TEMPERATURE IS NORMAL\n"
          ]
        }
      ]
    }
  ]
}
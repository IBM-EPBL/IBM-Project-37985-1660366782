{
  "nbformat": 4,
  "nbformat_minor": 0,
  "metadata": {
    "colab": {
      "provenance": []
    },
    "kernelspec": {
      "name": "python3",
      "display_name": "Python 3"
    },
    "language_info": {
      "name": "python"
    }
  },
  "cells": [
    {
      "cell_type": "markdown",
      "source": [
        "BUILD A PYTHON CODE, ASSUME YOU GET TEMPERATURE AND HUMIDITY VALUES(generated with random function to a variable) AND WRITE A CONDITION TO CONTINUOSLY DETECT A ALARM INCASE OF HIGH TEMPERATURE"
      ],
      "metadata": {
        "id": "0CjZ3HyeD7CK"
      }
    },
    {
      "cell_type": "code",
      "source": [
        "import random\n",
        "print(\"TEMPERATURE & HUMIDITY VALUES\")\n",
        "temp=random.randint(5,50)\n",
        "dew=random.randint(10,50)\n",
        "hum=(temp/dew)*100\n",
        "print(\"THE TEMPERATURE IS:\",temp,\"degree C\")\n",
        "print(\"THE HUMIDITY IS   :\",hum,\"%\")\n",
        "if(temp>40):\n",
        "    print(\"THE TEMPERATURE IS HIGH\")\n",
        "    print(\"TEMPERATURE ALERT!!!\")\n",
        "elif(temp<25):\n",
        "    print(\"THE TEMPERATURE IS LOW\")\n",
        "else:\n",
        "    print(\"THE TEMPERATURE IS NORMAL\")\n",
        "\n",
        "\n"
      ],
      "metadata": {
        "colab": {
          "base_uri": "https://localhost:8080/"
        },
        "id": "zz4nXDz0D9l1",
        "outputId": "4a5c2af4-efa3-49d8-c299-e1cdf76412bf"
      },
      "execution_count": 11,
      "outputs": [
        {
          "output_type": "stream",
          "name": "stdout",
          "text": [
            "TEMPERATURE & HUMIDITY VALUES\n",
            "THE TEMPERATURE IS: 49 degree C\n",
            "THE HUMIDITY IS   : 350.0 %\n",
            "THE TEMPERATURE IS HIGH\n",
            "TEMPERATURE ALERT!!!\n"
          ]
        }
      ]
    }
  ]
}